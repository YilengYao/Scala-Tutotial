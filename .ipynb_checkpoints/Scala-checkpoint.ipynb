{
 "cells": [
  {
   "cell_type": "markdown",
   "metadata": {},
   "source": [
    "# Scala\n",
    "Scala is both object orientated and functional\n",
    "- a function value is an object\n",
    "- Function types are classes that can be inherited by subclasses\n",
    "\n",
    "## Scala is object oriented\n",
    "Object-Oriented programming: put data and operations into some form of containers The idea of object-oriented programming is to make these containers fully general so that they are themselves values that can be stored in other containers or passed as parameters to operations. Such container are called objects.\n",
    "\n",
    "Java is not fully OOP because, its primitives types are not objects.\n",
    "\n",
    "Scala is pure Object-Oriented, eg, 1 + 2, you are performing operation in the class Int.\n",
    "\n",
    "Scala traits is similar to interfaces in Java."
   ]
  },
  {
   "cell_type": "markdown",
   "metadata": {},
   "source": [
    "## Scala is funtional\n",
    "Scala is fully functional.\n",
    "\n",
    "2 main idea of functional programming\n",
    "- functions are first class values\n",
    "- operations of a program should map input values to output values rather than change data in place\n",
    "\n",
    "### Functions as first class values\n",
    "You can pass functions into other functions, return them as results from functions or store them in variables.\n",
    "\n",
    "### Operations map input values to output values\n",
    "Ex, strings, in Java and Scala strings are immutable objects. If you want to change a letter in a string ruby ceates another object.\n",
    "While in Ruby, strings are sequence of characters. "
   ]
  },
  {
   "cell_type": "markdown",
   "metadata": {},
   "source": [
    "## Advantages of Scala\n",
    "\n",
    "### Scala is concise\n",
    "More concise than Java, Eg."
   ]
  },
  {
   "cell_type": "markdown",
   "metadata": {},
   "source": [
    "// in Java\n",
    "```\n",
    "class MyClass {\n",
    "    private index: int\n",
    "    private String name\n",
    "    \n",
    "    public MyClass(int index, String name) {\n",
    "        this.index = index;\n",
    "        this.name = name;\n",
    "    }\n",
    "}\n",
    "```"
   ]
  },
  {
   "cell_type": "code",
   "execution_count": null,
   "metadata": {},
   "outputs": [],
   "source": [
    "// in Scala\n",
    "class MyClass(index: Int, name: String)"
   ]
  },
  {
   "cell_type": "markdown",
   "metadata": {},
   "source": [
    "### Static Typed\n",
    "Scala is a non-verbosed static typed language. Being static type reduces runtime errors."
   ]
  },
  {
   "cell_type": "markdown",
   "metadata": {},
   "source": [
    "## Defining variables\n",
    "Sacal has 2 kinds of variables:\n",
    "- val\n",
    "- var\n",
    "\n",
    "val is similar to a final variable in Java, once initialized a val cannot be reassigned."
   ]
  },
  {
   "cell_type": "code",
   "execution_count": 22,
   "metadata": {},
   "outputs": [
    {
     "data": {
      "text/plain": [
       "one: Int = 1\n"
      ]
     },
     "execution_count": 22,
     "metadata": {},
     "output_type": "execute_result"
    }
   ],
   "source": [
    "val one = 1"
   ]
  },
  {
   "cell_type": "code",
   "execution_count": 23,
   "metadata": {},
   "outputs": [
    {
     "ename": "<console>",
     "evalue": "25: error: reassignment to val",
     "output_type": "error",
     "traceback": [
      "<console>:25: error: reassignment to val",
      "       one = 2",
      "           ^",
      ""
     ]
    }
   ],
   "source": [
    "one = 2"
   ]
  },
  {
   "cell_type": "markdown",
   "metadata": {},
   "source": [
    "var is similar to a non-final variable in Java. A var can be reassigned through its lifetime"
   ]
  },
  {
   "cell_type": "code",
   "execution_count": 24,
   "metadata": {},
   "outputs": [
    {
     "data": {
      "text/plain": [
       "two: Int = 2\n"
      ]
     },
     "execution_count": 24,
     "metadata": {},
     "output_type": "execute_result"
    }
   ],
   "source": [
    "var two = 2"
   ]
  },
  {
   "cell_type": "code",
   "execution_count": 25,
   "metadata": {},
   "outputs": [
    {
     "data": {
      "text/plain": [
       "two: Int = 3\n"
      ]
     },
     "execution_count": 25,
     "metadata": {},
     "output_type": "execute_result"
    }
   ],
   "source": [
    "two = 3"
   ]
  },
  {
   "cell_type": "markdown",
   "metadata": {},
   "source": [
    "You notice that we didn't declare types when we are initializing the variables. Scala has type inference ability, and can figure out the type of a variable.\n",
    "\n",
    "You can explicitly define a variable's type in cala, by specifying the variable's type after the variable name separated by a semicolon"
   ]
  },
  {
   "cell_type": "code",
   "execution_count": 26,
   "metadata": {},
   "outputs": [
    {
     "name": "stdout",
     "output_type": "stream",
     "text": [
      "Hello World\n"
     ]
    },
    {
     "data": {
      "text/plain": [
       "msg: String = Hello World\n"
      ]
     },
     "execution_count": 26,
     "metadata": {},
     "output_type": "execute_result"
    }
   ],
   "source": [
    "val msg: String = \"Hello World\"\n",
    "println(msg)"
   ]
  },
  {
   "cell_type": "markdown",
   "metadata": {},
   "source": [
    "# Functions\n",
    "Functions starts with the def keyword they follow by function's name. The parameters are followed by it's type separated by colons. Then followed by colon and return type. Which is followed by an equal sign and the function's body enclosed by curly braces."
   ]
  },
  {
   "cell_type": "code",
   "execution_count": 38,
   "metadata": {},
   "outputs": [
    {
     "data": {
      "text/plain": [
       "max: (x: Int, y: Int)Int\n"
      ]
     },
     "execution_count": 38,
     "metadata": {},
     "output_type": "execute_result"
    }
   ],
   "source": [
    "def max(x: Int, y: Int): Int = {\n",
    "    if (x > y) {\n",
    "        x\n",
    "    } else {\n",
    "        y\n",
    "    }\n",
    "}"
   ]
  },
  {
   "cell_type": "code",
   "execution_count": 39,
   "metadata": {},
   "outputs": [
    {
     "data": {
      "text/plain": [
       "res9: Int = 4\n"
      ]
     },
     "execution_count": 39,
     "metadata": {},
     "output_type": "execute_result"
    }
   ],
   "source": [
    "max(3, 4)"
   ]
  },
  {
   "cell_type": "code",
   "execution_count": 4,
   "metadata": {},
   "outputs": [
    {
     "data": {
      "text/plain": [
       "import java.math.BigInteger\n",
       "factorial: (x: java.math.BigInteger)java.math.BigInteger\n"
      ]
     },
     "execution_count": 4,
     "metadata": {},
     "output_type": "execute_result"
    }
   ],
   "source": [
    "import java.math.BigInteger\n",
    "\n",
    "def factorial(x: BigInteger): BigInteger = if (x == BigInteger.ZERO) BigInteger.ONE else x.multiply(factorial(x.subtract(BigInteger.ONE)))"
   ]
  },
  {
   "cell_type": "code",
   "execution_count": null,
   "metadata": {},
   "outputs": [],
   "source": []
  }
 ],
 "metadata": {
  "kernelspec": {
   "display_name": "spylon-kernel",
   "language": "scala",
   "name": "spylon-kernel"
  },
  "language_info": {
   "codemirror_mode": "text/x-scala",
   "file_extension": ".scala",
   "help_links": [
    {
     "text": "MetaKernel Magics",
     "url": "https://metakernel.readthedocs.io/en/latest/source/README.html"
    }
   ],
   "mimetype": "text/x-scala",
   "name": "scala",
   "pygments_lexer": "scala",
   "version": "0.4.1"
  }
 },
 "nbformat": 4,
 "nbformat_minor": 2
}
