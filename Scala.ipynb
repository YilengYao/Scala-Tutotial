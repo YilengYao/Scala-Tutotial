{
 "cells": [
  {
   "cell_type": "markdown",
   "metadata": {},
   "source": [
    "# Scala\n",
    "Scala is both object orientated and functional\n",
    "- a function value is an object\n",
    "- Function types are classes that can be inherited by subclasses\n",
    "\n",
    "## Scala is object oriented\n",
    "Object-Oriented programming: put data and operations into some form of containers The idea of object-oriented programming is to make these containers fully general so that they are themselves values that can be stored in other containers or passed as parameters to operations. Such container are called objects.\n",
    "\n",
    "Java is not fully OOP because, its primitives types are not objects.\n",
    "\n",
    "Scala is pure Object-Oriented, eg, 1 + 2, you are performing operation in the class Int.\n",
    "\n",
    "Scala traits is similar to interfaces in Java."
   ]
  },
  {
   "cell_type": "markdown",
   "metadata": {},
   "source": [
    "## Scala is funtional\n",
    "Scala is fully functional.\n",
    "\n",
    "2 main idea of functional programming\n",
    "- functions are first class values\n",
    "- operations of a program should map input values to output values rather than change data in place\n",
    "\n",
    "### Functions as first class values\n",
    "You can pass functions into other functions, return them as results from functions or store them in variables.\n",
    "\n",
    "### Operations map input values to output values\n",
    "Ex, strings, in Java and Scala strings are immutable objects. If you want to change a letter in a string ruby ceates another object.\n",
    "While in Ruby, strings are sequence of characters. "
   ]
  },
  {
   "cell_type": "markdown",
   "metadata": {},
   "source": [
    "## Advantages of Scala\n",
    "\n",
    "### Scala is concise\n",
    "More concise than Java, Eg."
   ]
  },
  {
   "cell_type": "markdown",
   "metadata": {},
   "source": [
    "// in Java\n",
    "```\n",
    "class MyClass {\n",
    "    private index: int\n",
    "    private String name\n",
    "    \n",
    "    public MyClass(int index, String name) {\n",
    "        this.index = index;\n",
    "        this.name = name;\n",
    "    }\n",
    "}\n",
    "```"
   ]
  },
  {
   "cell_type": "code",
   "execution_count": 1,
   "metadata": {},
   "outputs": [
    {
     "data": {
      "text/plain": [
       "Intitializing Scala interpreter ..."
      ]
     },
     "metadata": {},
     "output_type": "display_data"
    },
    {
     "data": {
      "text/plain": [
       "Spark Web UI available at http://192.168.1.66:4040\n",
       "SparkContext available as 'sc' (version = 3.2.1, master = local[*], app id = local-1647210918744)\n",
       "SparkSession available as 'spark'\n"
      ]
     },
     "metadata": {},
     "output_type": "display_data"
    },
    {
     "data": {
      "text/plain": [
       "defined class MyClass\n"
      ]
     },
     "execution_count": 1,
     "metadata": {},
     "output_type": "execute_result"
    }
   ],
   "source": [
    "// in Scala\n",
    "class MyClass(index: Int, name: String)"
   ]
  },
  {
   "cell_type": "markdown",
   "metadata": {},
   "source": [
    "### Static Typed\n",
    "Scala is a non-verbosed static typed language. Being static type reduces runtime errors."
   ]
  },
  {
   "cell_type": "markdown",
   "metadata": {},
   "source": [
    "## Defining variables\n",
    "Sacal has 2 kinds of variables:\n",
    "- val\n",
    "- var\n",
    "\n",
    "val is similar to a final variable in Java, once initialized a val cannot be reassigned."
   ]
  },
  {
   "cell_type": "code",
   "execution_count": null,
   "metadata": {},
   "outputs": [
    {
     "data": {
      "text/plain": [
       "one: Int = 1\n"
      ]
     },
     "execution_count": 2,
     "metadata": {},
     "output_type": "execute_result"
    }
   ],
   "source": [
    "val one = 1"
   ]
  },
  {
   "cell_type": "code",
   "execution_count": null,
   "metadata": {},
   "outputs": [
    {
     "ename": "<console>",
     "evalue": "24: error: reassignment to val",
     "output_type": "error",
     "traceback": [
      "<console>:24: error: reassignment to val",
      "       one = 2",
      "           ^",
      ""
     ]
    }
   ],
   "source": [
    "one = 2"
   ]
  },
  {
   "cell_type": "markdown",
   "metadata": {},
   "source": [
    "var is similar to a non-final variable in Java. A var can be reassigned through its lifetime"
   ]
  },
  {
   "cell_type": "code",
   "execution_count": null,
   "metadata": {},
   "outputs": [],
   "source": [
    "var two = 2"
   ]
  },
  {
   "cell_type": "code",
   "execution_count": null,
   "metadata": {},
   "outputs": [],
   "source": [
    "two = 3"
   ]
  },
  {
   "cell_type": "markdown",
   "metadata": {},
   "source": [
    "You notice that we didn't declare types when we are initializing the variables. Scala has type inference ability, and can figure out the type of a variable.\n",
    "\n",
    "You can explicitly define a variable's type in cala, by specifying the variable's type after the variable name separated by a semicolon"
   ]
  },
  {
   "cell_type": "code",
   "execution_count": null,
   "metadata": {},
   "outputs": [],
   "source": [
    "val msg: String = \"Hello World\"\n",
    "println(msg)"
   ]
  },
  {
   "cell_type": "markdown",
   "metadata": {},
   "source": [
    "# Functions\n",
    "Functions starts with the def keyword they follow by function's name. The parameters are followed by it's type separated by colons. Then followed by colon and return type. Which is followed by an equal sign and the function's body enclosed by curly braces."
   ]
  },
  {
   "cell_type": "code",
   "execution_count": null,
   "metadata": {},
   "outputs": [],
   "source": [
    "def max(x: Int, y: Int): Int = {\n",
    "    if (x > y) {\n",
    "        x\n",
    "    } else {\n",
    "        y\n",
    "    }\n",
    "}"
   ]
  },
  {
   "cell_type": "code",
   "execution_count": null,
   "metadata": {},
   "outputs": [],
   "source": [
    "max(3, 4)"
   ]
  },
  {
   "cell_type": "markdown",
   "metadata": {},
   "source": [
    "### Unit result type\n",
    "A result type of Unit indicates that the function returns no interesting value. Scala's Unit type is similar to Java's void type, and in fact every void-returning method in Java is mapped to a Unit-returning method in Scala."
   ]
  },
  {
   "cell_type": "code",
   "execution_count": null,
   "metadata": {},
   "outputs": [],
   "source": [
    "def greet() = println(\"Hello, world!\")"
   ]
  },
  {
   "cell_type": "markdown",
   "metadata": {},
   "source": [
    "# Loops in scala\n",
    "\n",
    "## While Loop"
   ]
  },
  {
   "cell_type": "code",
   "execution_count": null,
   "metadata": {},
   "outputs": [],
   "source": [
    "val fruits: List[String] = List(\"apples\", \"oranges\", \"pears\")"
   ]
  },
  {
   "cell_type": "code",
   "execution_count": null,
   "metadata": {},
   "outputs": [],
   "source": [
    "var i = 0\n",
    "while (i < fruits.length) {\n",
    "    if (i != 0) {\n",
    "        print(\" \")\n",
    "    }\n",
    "    print(fruits(i))\n",
    "    i += 1\n",
    "}"
   ]
  },
  {
   "cell_type": "markdown",
   "metadata": {},
   "source": [
    "## Foreach loop"
   ]
  },
  {
   "cell_type": "code",
   "execution_count": null,
   "metadata": {},
   "outputs": [],
   "source": [
    "fruits.foreach((fruit: String) => {\n",
    "    print(fruit)\n",
    "    print(\" \")\n",
    "})"
   ]
  },
  {
   "cell_type": "markdown",
   "metadata": {},
   "source": [
    "# For loop"
   ]
  },
  {
   "cell_type": "code",
   "execution_count": null,
   "metadata": {},
   "outputs": [],
   "source": [
    "for (fruit <- fruits) {\n",
    "    print(fruit + \" \")\n",
    "}"
   ]
  },
  {
   "cell_type": "markdown",
   "metadata": {},
   "source": [
    "# Lists\n",
    "\n",
    "## Parameterize arrays with types\n",
    "Paramerization means \"configuring\" an instance when you create it.\n",
    "\n",
    "In Scala you can instantiate objects or class instances using new. When you instantiate an object in Scala, you can parameterize it with values and types.\n",
    "\n",
    "You can parameterize an instance with types by specifying one or more types in square brackets."
   ]
  },
  {
   "cell_type": "code",
   "execution_count": null,
   "metadata": {},
   "outputs": [],
   "source": [
    "val greetStrings = new Array[String](3)\n",
    "greetStrings(0) = \"Hello\"\n",
    "greetStrings(1) = \", \"\n",
    "greetStrings(2) = \"world!\\n\"\n",
    "\n",
    "for (i <- 0 to greetStrings.length - 1)\n",
    "    print(greetStrings(i))"
   ]
  },
  {
   "cell_type": "markdown",
   "metadata": {},
   "source": [
    "Underneath the hood accessing the ith elements in a list uses apply"
   ]
  },
  {
   "cell_type": "code",
   "execution_count": null,
   "metadata": {},
   "outputs": [],
   "source": [
    "println(greetStrings(0))\n",
    "println(greetStrings.apply(0))"
   ]
  },
  {
   "cell_type": "markdown",
   "metadata": {},
   "source": [
    "Assiging value to ith element of a list uses update"
   ]
  },
  {
   "cell_type": "code",
   "execution_count": null,
   "metadata": {},
   "outputs": [],
   "source": [
    "greetStrings.update(2,\"planet!\")\n",
    "\n",
    "for (i <- 0 to greetStrings.length - 1)\n",
    "    print(greetStrings(i))"
   ]
  },
  {
   "cell_type": "markdown",
   "metadata": {},
   "source": [
    "add operator uses (operand1).+(operand2)"
   ]
  },
  {
   "cell_type": "code",
   "execution_count": null,
   "metadata": {},
   "outputs": [],
   "source": [
    "(1).+(2)"
   ]
  },
  {
   "cell_type": "markdown",
   "metadata": {},
   "source": [
    "Creating the iterable using beginning to end uses beginning.to(end)"
   ]
  },
  {
   "cell_type": "code",
   "execution_count": null,
   "metadata": {},
   "outputs": [],
   "source": [
    "for (i <- 0.to(10))\n",
    "    print(i + \" \")"
   ]
  },
  {
   "cell_type": "markdown",
   "metadata": {},
   "source": [
    "Instantiating and assigning array"
   ]
  },
  {
   "cell_type": "code",
   "execution_count": null,
   "metadata": {},
   "outputs": [],
   "source": [
    "val numNames = Array(\"zero\", \"one\", \"two\")\n",
    "numNames.foreach(numName => print(numName + \" \"))\n",
    "println()\n",
    "val numNames2 = Array.apply(\"zero\", \"one\", \"two\")\n",
    "numNames2.foreach(numName => print(numName + \" \"))"
   ]
  },
  {
   "cell_type": "markdown",
   "metadata": {},
   "source": [
    "## Lists\n",
    "While Arrays is a mutable sequence of object.\n",
    "Lists are a sequence of immutable objects of the same type."
   ]
  },
  {
   "cell_type": "code",
   "execution_count": null,
   "metadata": {},
   "outputs": [],
   "source": [
    "val oneTwoThree = List(1, 2, 3)"
   ]
  },
  {
   "cell_type": "code",
   "execution_count": null,
   "metadata": {},
   "outputs": [],
   "source": [
    "oneTwoThree(0) = 3"
   ]
  },
  {
   "cell_type": "markdown",
   "metadata": {},
   "source": [
    "`::`: \"cons\" operator, it perpends a new element to the beginnin of an existing list"
   ]
  },
  {
   "cell_type": "code",
   "execution_count": null,
   "metadata": {},
   "outputs": [],
   "source": [
    "val threeFour = List(3, 4)"
   ]
  },
  {
   "cell_type": "code",
   "execution_count": null,
   "metadata": {},
   "outputs": [],
   "source": [
    "print(1::threeFour)"
   ]
  },
  {
   "cell_type": "markdown",
   "metadata": {},
   "source": [
    "`:::`: is the concatination operator, it creats a new list that is a concatination of 2 lists"
   ]
  },
  {
   "cell_type": "code",
   "execution_count": null,
   "metadata": {},
   "outputs": [],
   "source": [
    "val oneTwo = List(1, 2)\n",
    "print(oneTwo:::threeFour)"
   ]
  },
  {
   "cell_type": "markdown",
   "metadata": {},
   "source": [
    "Why not append to list?\n",
    "Because the time it takes to append to a list grows linearly with the size of the list. Where perpending is constant time. (Why not use a doubly linked list)\n",
    "\n",
    "The work around is to call reverse or use List Buffer"
   ]
  },
  {
   "cell_type": "markdown",
   "metadata": {},
   "source": [
    "## Tuples\n",
    "A tuple is an immutaple sequence objects, where the objects can be of different types.\n",
    "A touble can contain both integer and string at the same time. Tuple are useful to return multiple objects from a method.\n",
    "\n",
    "A tuple can be instantiated by placing objects in parentheses separated by commas"
   ]
  },
  {
   "cell_type": "code",
   "execution_count": null,
   "metadata": {},
   "outputs": [],
   "source": [
    "val pair = (123, \"Ace\")"
   ]
  },
  {
   "cell_type": "markdown",
   "metadata": {},
   "source": [
    "You can access elements in a tuple by using a dot, underscore and 1-based index of the element"
   ]
  },
  {
   "cell_type": "code",
   "execution_count": null,
   "metadata": {},
   "outputs": [],
   "source": [
    "println(pair._1)\n",
    "println(pair._2)"
   ]
  },
  {
   "cell_type": "markdown",
   "metadata": {},
   "source": [
    "Why can't we use `pair(0)` to access elements of a tuple.\n",
    "\n",
    "The reason is that list's apply mehtod always return the same type, but tuple can have elements of different types. And Tuple's index is 1-based, where as List's index is 0-based."
   ]
  },
  {
   "cell_type": "markdown",
   "metadata": {},
   "source": [
    "## Sets\n",
    "For sets, scala provides mutable and immutable alternatives.\n",
    "\n",
    "<table>\n",
    "    <thead>\n",
    "        <tr>\n",
    "            <th colspan=\"2\">scala.collection<br>Set<br>trait</th>\n",
    "        </tr>\n",
    "    </thead>\n",
    "    <tbody>\n",
    "        <tr>\n",
    "            <td>scala.collection.immutable<br>Set<br>trait</td>\n",
    "            <td>scala.collection.mutable<br>Set<br>trait</td>\n",
    "        </tr>\n",
    "        <tr>\n",
    "            <td>scala.collection.immutable<br>HashSet</td>\n",
    "            <td>scala.collection.mutable<br>HashSet</td>\n",
    "        </tr>\n",
    "    </tbody>\n",
    "</table>"
   ]
  },
  {
   "cell_type": "code",
   "execution_count": null,
   "metadata": {},
   "outputs": [],
   "source": [
    "var carSet = Set(\"Ferrari\", \"Lambo\")\n",
    "jetSet += \"BMW\"\n",
    "println(jetSet.contains(\"BMW\"))"
   ]
  },
  {
   "cell_type": "markdown",
   "metadata": {},
   "source": [
    "In Scala Sets are default immutable set\n",
    "\n",
    "If you want a mutable set you need to import it."
   ]
  },
  {
   "cell_type": "code",
   "execution_count": null,
   "metadata": {},
   "outputs": [],
   "source": [
    "import scala.collection.mutable.Set\n",
    "\n",
    "val foodSet = Set(\"Burger\", \"Fries\")\n",
    "foodSet += \"Drink\"\n",
    "println(foodSet)"
   ]
  },
  {
   "cell_type": "markdown",
   "metadata": {},
   "source": [
    "To add a new element to a set, you call + on the set, passing in the new element. Both mutable and immutable sets offer a + method, but their behavior differs. Whereas a mutable set will add the element to itself, an immutable set will create and return a brand new set."
   ]
  },
  {
   "cell_type": "markdown",
   "metadata": {},
   "source": [
    "## Maps\n",
    "For maps, scala provides mutable and immutable alternatives.\n",
    "\n",
    "<table>\n",
    "    <thead>\n",
    "        <tr>\n",
    "            <th colspan=\"2\">scala.collection<br>Map<br>trait</th>\n",
    "        </tr>\n",
    "    </thead>\n",
    "    <tbody>\n",
    "        <tr>\n",
    "            <td>scala.collection.immutable<br>Map<br>trait</td>\n",
    "            <td>scala.collection.mutable<br>Map<br>trait</td>\n",
    "        </tr>\n",
    "        <tr>\n",
    "            <td>scala.collection.immutable<br>HashMap</td>\n",
    "            <td>scala.collection.mutable<br>HashMap</td>\n",
    "        </tr>\n",
    "    </tbody>\n",
    "</table>\n",
    "\n",
    "Default is immutable map"
   ]
  },
  {
   "cell_type": "code",
   "execution_count": null,
   "metadata": {},
   "outputs": [],
   "source": [
    "val romanNumeral = Map(\n",
    "    1 -> \"I\", 2 -> \"II\", 3 -> \"III\", 4 -> \"IV\", 5 -> \"V\"\n",
    ")\n",
    "println(romanNumeral(4))"
   ]
  },
  {
   "cell_type": "code",
   "execution_count": null,
   "metadata": {},
   "outputs": [],
   "source": [
    "import scala.collection.mutable.Map\n",
    "\n",
    "val treasureMap = Map[Int, String]()\n",
    "treasureMap += (1 -> \"Go to island.\")\n",
    "treasureMap += (2 -> \"Find big X on ground\")\n",
    "treasureMap += (3 -> \"Dig.\")\n",
    "println(treasureMap(2))"
   ]
  },
  {
   "cell_type": "markdown",
   "metadata": {},
   "source": [
    "### Semicolon Inference Rules\n",
    "A line ending is treated as a semicolon unless one of the following conditions is true:\n",
    "1. The line in question ends in a word that would not be legal as the end of a statement, such as a period or an infix operator.\n",
    "2. The next line begins with a word that cannot start a statement.\n",
    "3. The line ends while inside parentheses (...) or brackets [...], because these cannot contain multiple statements anyway."
   ]
  },
  {
   "cell_type": "markdown",
   "metadata": {},
   "source": [
    "# Singleton\n",
    "Scala is more object-oriented than Java in that Scala cannot have static members. Instead, Scala has singleton Objects.\n",
    "\n",
    "Singleton Object: An object defined with the object keyword. Each singleton object has one and only one instance. A singleton object that shares its name with a class, and is defined in the same source file as that class, is that class' companion object. The class is its companion class. A singleton object that odesn't have a companion class is a standalone object.\n",
    "\n",
    "\n",
    "Eg."
   ]
  },
  {
   "cell_type": "code",
   "execution_count": null,
   "metadata": {},
   "outputs": [],
   "source": [
    "import scala.collection.mutable.Map\n",
    "\n",
    "class ChecksumAccumulator {\n",
    "    private var sum = 0\n",
    "    def add(b: Byte): Unit = sum += b\n",
    "    def checksum(): Int = ~(sum & 0xFF) + 1\n",
    "}\n",
    "\n",
    "object ChecksumAccumulator {\n",
    "    private val cache = Map[String, Int]()\n",
    "    \n",
    "    def calculate(s: String): Int =\n",
    "        if(cache.contains(s))\n",
    "            cache(s)\n",
    "        else {\n",
    "            val acc = new ChecksumAccumulator\n",
    "            for (c <- s)\n",
    "                acc.add(c.toByte)\n",
    "            val cs = acc.checksum()\n",
    "            cache += (s -> cs)\n",
    "            cs\n",
    "        }\n",
    "}"
   ]
  },
  {
   "cell_type": "code",
   "execution_count": null,
   "metadata": {},
   "outputs": [],
   "source": [
    "val cs = new ChecksumAccumulator()"
   ]
  },
  {
   "cell_type": "code",
   "execution_count": null,
   "metadata": {},
   "outputs": [],
   "source": [
    "cs.checksum()"
   ]
  },
  {
   "cell_type": "markdown",
   "metadata": {},
   "source": [
    "The singleton object named ChecksumAccumulator shares the same name as the class SingletonAccumulator. When a singleton object shares the same name with a class, it is called the class's companion object. You must define both the class and its companion object in the same source file. The class is called the companion class of the singleton object. A class and its companion object can access each other's private members.\n",
    "\n",
    "Companion object: A singleton object that shares the same name with a class defined in the same source file. Companion objects and classes have access to each other's private members. In addition, any implicit conversions defined in the companion object will be in scope anywhere the class is used.\n",
    "\n",
    "The ChecksumAccumulator singleton object has one method, named calculate, which takes a String and calculates a checksum for the characters in the String. It also has one private field, cache, a mutable map in which previously calculated checksum are cached. The first line of the method. \"if (cache.contains(s))\", checks the cache to see if the passed string is already contained as a key in the map. If so, it returens the mapped value, cache(s). Otherwise, it executes the else clause defined a val named acc and initializes it with a new ChecksumAccumulator instance. The next line is a for expression, which cycles through each character in the passed string, converts the character to a Byte by invoking toByte on it, and passes that to the add mehtod of the ChecksumAccumulator instances to which acc refers. After the for expression completes, the next line of the method invokes checksum on acc, which gets the checksum for the passed STring, and stores it into a val named cs. In the next line, cache += (s -> cs), the passed string key is mapped to the integer checksum values, and this key-value pair is added to the cache map. The last expression of the method, cs, ensures the checksum iss the result of the method.\n",
    "\n",
    "If you are a Java programmer, one way to think of singleton objects is as the home for any static methods you might have written in Java. You can invoke methods on singleton objects using a similar syntax: the name of the singleton object, a dot, and the name of the method. For example, you can invoke the calculate method of singleton object ChecksumAccumulator like this:"
   ]
  },
  {
   "cell_type": "code",
   "execution_count": null,
   "metadata": {},
   "outputs": [],
   "source": [
    "ChecksumAccumulator.calculate(\"Every value is an object.\")"
   ]
  },
  {
   "cell_type": "markdown",
   "metadata": {},
   "source": [
    "A singleton object is more than a holder of static methods, however. It is a first-class object. You can think of a singleton object's name, therefor, as a \"name tag\" attached to the object.\n",
    "\n",
    "Defining a singleton object doesn't define a type (as the Scala level of abstraction). Given just a definition of object ChecksumAccumulator, you can't make a variable of type ChecksumAccumulator. Rather, the type name ChecksumAccumulator is defined by the singleton object's companion class. However, singleton object extend a superclass and can mix in traits. Given each singleton object is an instance of its superclasses and mixed=in traits, you can invode its methods via these types, refer to it from variables of these types, and pass it to methods expecting types. \n",
    "\n",
    "\n",
    "One difference between classes and singleton objects is that singleton objects cannot take parameters, whereas classes can. Because you can't instantiate a singleton object with the new keyword, you have to no way to pass parameters to it. Each singleton object implemented as an instance of a synthetic class reference from a static variable, so they have the same initialization semantics as Java statics. In particular a singleton object is initialized the first time some code accesses it..\n",
    "\n",
    "Synthetic class: A synthetic class is generated automatically by the compiler rather than being written by hand by the programmer.\n",
    "\n",
    "A singleton object that does not share the same name with a companion aclass is called a standalong object. You can use standalone objects for many purposes, including collecting related utility methods together, or defining an entry point to a Scala application.\n",
    "\n",
    "Standalone object: A singletion object that has no companion class."
   ]
  },
  {
   "cell_type": "markdown",
   "metadata": {},
   "source": [
    "# Scala Application\n",
    "To run a Scala program, you must suply the name of a standalone singleton object with a main method that takes one parameter, an Array[String], and has a result type of Unit. Any singleton object with a main method of the proper signatire can be used as the entry point to an application."
   ]
  },
  {
   "cell_type": "code",
   "execution_count": null,
   "metadata": {},
   "outputs": [],
   "source": [
    "import ChecksumAccumulator.calculate \n",
    "\n",
    "object Summer {\n",
    "    def main(args: Array[String]): Unit = {\n",
    "        for (arg <- args)\n",
    "            println(arg + \": \" + calculate(arg))\n",
    "    }\n",
    "}"
   ]
  },
  {
   "cell_type": "code",
   "execution_count": null,
   "metadata": {},
   "outputs": [],
   "source": [
    "Summer.main(Array(\"1\", \"e\"))"
   ]
  },
  {
   "cell_type": "markdown",
   "metadata": {},
   "source": [
    "Put the ChecksumeAccumulator code in a file named ChecksumAccumulator.scala and Summer code in Summer.scala.\n",
    "\n",
    "Neither ChecksumAccumulator.scala nor Summer.scala are scripts, because they ind in a definition. A script, by contrast, must end in a result expression. Thus if you try to run Summer.scala as a scrupt, the Scala interpreter will complain that Summer.scala does not end in a result expression (assuming of course you din't add any expression ofy our own after the Summer object definition). Instead, you'll need to actually compile these files with the Scala compiler, then run the resulting class files. One way is to use `scalac`, which is the basic Scala compiler, like this:\n",
    "\n",
    "```\n",
    "scalac ChecksumAccumulator.scala Summer.scala\n",
    "```\n",
    "\n",
    "This compiles your source files, but there may be a perceptible delay before the compilation finishes. The reason is that every time the compiler starts up, it spends time scanning the contents of jar files and doing other initial work before it even looks at the fresh source files you submit to it. For this reason, the Scala distribution also includes a Scala compuler daemon fsc (for fast Scala compiler). You use it like this:\n",
    "\n",
    "```\n",
    "fsc ChecksumAccumulator.scala Summer.scala\n",
    "```\n",
    "\n",
    "The first time you run fsc, it will create a local server daemin attached to a port on your computer. It will then send the list of files to compile to the daemon via the port, and the dailn will compile the files. The next time you run fsc, the daimon will already be running, so fsc will simply send the file list to the daemon, which will immediately compile the fiels. Using fsc, you only need to wait for the Java runtime to startupthe first time. If you ever want to stop the fsc daemon, you can do so with\n",
    "\n",
    "```\n",
    "fsc -shutdown\n",
    "```\n",
    "\n",
    "Running either of these scalac or fsc commands will produce Java class files that you can then run via the scala command, the same command you used to invode the interpreter in previous examples. However, instead of giving it a filename with a .scala extension conaining Scala code to interpret as you did in every previous example, in this case you'll give ti the name of a standalone object containing a main method of the proper signature. You can run the Summe application, therefore, by typing:\n",
    "\n",
    "```\n",
    "scala Summer of love\n",
    "```"
   ]
  },
  {
   "cell_type": "markdown",
   "metadata": {},
   "source": [
    "## Application trait\n",
    "Scala provides a trait, scala.Application"
   ]
  },
  {
   "cell_type": "code",
   "execution_count": null,
   "metadata": {},
   "outputs": [],
   "source": [
    "import ChecksumAccumulator.calculate\n",
    "\n",
    "object FallWinterSpringSummer extends App {\n",
    "    for(season <- List(\"fall\", \"winter\", \"spring\"))\n",
    "        println(season + \": \" + calculate(season))\n",
    "}"
   ]
  },
  {
   "cell_type": "markdown",
   "metadata": {},
   "source": [
    "To use the trait you need to `extends App` after then name of your singleton object. Then instead of writing a main method you place the code you would have put in the main method directly between the curly braces of the singleton object. You can compile and run this application.\n",
    "\n",
    "The way this works is that trait App declares a main method of the appropriate signature, which your singleton object inherits, making it usable as aScala application. The code between the curly braces is collected into a primary constructor of the singleton object, and is executed when the class is initialized.\n",
    "\n",
    "Primary constructor: The main constuctor of a class, which invokes a superclass constructor, if necessary, initializes fields to passed values, and executes any top-level code defined between the curly braces of the class. Fields are initialized only for value parameters not passed to the superclass constructor, except for any that are not useed in the body of the class and can therefore by optimized away.\n",
    "\n",
    "Inheriting from Application is shorter than writing an explicit main method. But you can't access command-line arguments, because the args array isn't available.\n",
    "So you should inherit from Application only when your program is relatively simple and single-treaded."
   ]
  },
  {
   "cell_type": "markdown",
   "metadata": {},
   "source": [
    "# Classes\n",
    "A class doesn't need to have a body. You don't need to specify in the empty curly braces."
   ]
  },
  {
   "cell_type": "code",
   "execution_count": null,
   "metadata": {},
   "outputs": [],
   "source": [
    "class Rational(n: Int, d: Int)"
   ]
  },
  {
   "cell_type": "markdown",
   "metadata": {},
   "source": [
    "The identifiers d and n are class parameters. The Scala compiler will gather up these two classe parameters and create a primary constructor that takes the same 2 parameters.\n",
    "\n",
    "#### Immutable object trade-offs\n",
    "Immutable objects offer several advantages over mutable objects, and one potential advantage. First, immutable objecsts are easier to reason about than mutable ones, because the do not have complex state spaces that change over time. Second, you can pass mutable objects around quite freely, wwhereas you may need to make defensive copies of mutable objects before passing them to other code. Third, there is no way for two threads concurrently accessing an immutable object to corrrupt its state once it has been properly constructed, because no thread can change the state of an immutable object. Forth, immutable objects make safe hashtable keys, If a mutable object is mutated after it is placed in a hashSet, for example, that object may not be found the next time you look into the HashSet.\n",
    "\n",
    "The main disadvantage of immutable object is that they somethimes require that a large object graph be copied where otherwise an update could be done in place. In some cases this can be arkward to express and might also cause a performance bottleneck. As a result, it is not uncommon for liubraries to provide mutable alternatives to mutable classes. for example, class StringBuilder is a mutable alternative to the immutable String. "
   ]
  },
  {
   "cell_type": "markdown",
   "metadata": {},
   "source": [
    "Scala compiler will compile any code you place in the class body which isn't part of a field or a method definition, into the primary constructor."
   ]
  },
  {
   "cell_type": "code",
   "execution_count": 1,
   "metadata": {},
   "outputs": [],
   "source": [
    "class Rational(n: Int, d: Int) {\n",
    "    println(\"Created \" + n + \"/\" + d)\n",
    "}"
   ]
  },
  {
   "cell_type": "code",
   "execution_count": 2,
   "metadata": {},
   "outputs": [],
   "source": [
    "new Rational(1, 2)"
   ]
  },
  {
   "cell_type": "markdown",
   "metadata": {},
   "source": [
    "The toString method is called when help debug the object"
   ]
  },
  {
   "cell_type": "code",
   "execution_count": 4,
   "metadata": {},
   "outputs": [],
   "source": [
    "class Rational(n: Int, d: Int) {\n",
    "    println(\"Created \" + n + \"/\" + d)\n",
    "    \n",
    "    override def toString = n + \"/\" + d\n",
    "}"
   ]
  },
  {
   "cell_type": "code",
   "execution_count": 5,
   "metadata": {},
   "outputs": [],
   "source": [
    "new Rational(3, 4)"
   ]
  },
  {
   "cell_type": "markdown",
   "metadata": {},
   "source": [
    "### Checking Precondition\n",
    "The require method allows us to do that, if certain precondition isn't map, it will prevent the object from being constructed by throwing an IllegalArgumentException."
   ]
  },
  {
   "cell_type": "code",
   "execution_count": 6,
   "metadata": {},
   "outputs": [],
   "source": [
    "class Rational(n: Int, d: Int) {\n",
    "    require(d != 0)\n",
    "    override def toString = n + \"/\" + d\n",
    "}"
   ]
  },
  {
   "cell_type": "code",
   "execution_count": 7,
   "metadata": {},
   "outputs": [],
   "source": [
    "new Rational(3, 0)"
   ]
  },
  {
   "cell_type": "code",
   "execution_count": null,
   "metadata": {},
   "outputs": [],
   "source": []
  },
  {
   "cell_type": "code",
   "execution_count": 19,
   "metadata": {},
   "outputs": [],
   "source": [
    "class Rational(n: Int, d: Int) {\n",
    "    require(d != 0)\n",
    "    def getNumerator() = n\n",
    "    def getDenominator() = d\n",
    "    override def toString = n + \"/\" + d\n",
    "    def add(that: Rational): Rational =\n",
    "        new Rational(\n",
    "            n * that.getDenominator() + that.getNumerator * d,\n",
    "            d * that.getDenominator()\n",
    "        )\n",
    "}"
   ]
  },
  {
   "cell_type": "code",
   "execution_count": 20,
   "metadata": {},
   "outputs": [],
   "source": [
    "val a = new Rational(2, 3)\n",
    "val b = new Rational(3, 4)"
   ]
  },
  {
   "cell_type": "code",
   "execution_count": 21,
   "metadata": {},
   "outputs": [],
   "source": [
    "a.add(b)"
   ]
  },
  {
   "cell_type": "markdown",
   "metadata": {},
   "source": [
    "# Auxiliary Constructors\n",
    "auxiliary constructor: Extra constructors defined inside the curly braces of the class definition, which look like method definitions named this, but with no result type.\n",
    "\n",
    "Auxiliary constructors in Scala start with `def this(...)`. "
   ]
  },
  {
   "cell_type": "code",
   "execution_count": 22,
   "metadata": {},
   "outputs": [],
   "source": [
    "class Rational(n: Int, d: Int) {\n",
    "    require(d != 0)\n",
    "    def getNumerator() = n\n",
    "    def getDenominator() = d\n",
    "    def this(n: Int) = this(n, 1)\n",
    "    override def toString = n + \"/\" + d\n",
    "    def add(that: Rational): Rational =\n",
    "        new Rational(\n",
    "            n * that.getDenominator() + that.getNumerator * d,\n",
    "            d * that.getDenominator()\n",
    "        )\n",
    "}"
   ]
  },
  {
   "cell_type": "code",
   "execution_count": 23,
   "metadata": {},
   "outputs": [],
   "source": [
    "val seven = new Rational(7)"
   ]
  },
  {
   "cell_type": "markdown",
   "metadata": {},
   "source": [
    "# Functions\n",
    "function: A function can be invoked with a list of arguments to produce a result. A function has a parameter list, a body, and a result. A function has a parameter list, a body, and a result type. Functions that are a members of a class, trait, or singleton object are called methods. Functions defined inside other functions are called local functions. Functions with the result type unit are called procedures. Anonymous funcitons in code are called function literals. At runtime, function literals are instantiated into objects called function values.\n",
    "\n",
    "First-class function: Scala supports first-class functions, which means you can express functions in function literal syntax, i.e., (x: Int) => x + 1, and that functions can be represented by objects, which are called function values.\n",
    "\n",
    "function literal: A function with no name in Scala source code, specified with function literal syntax. For example, (x: Int, y: Int) => x + y.\n",
    "\n",
    "function value: A function object ahat can be invoked just like any other function. A function value's class extends one of the FunctionN traits (e.g., Function0, Funciton1) from package scala, and is usually expressed in source code via function literal syntax. A function value is \"invoked\" when its apply method is called. A function value that captures free variables is a closure.\n",
    "\n",
    "functional style: The functional style of programming emphasizes functions and evaluation results and deemphasizes the order in which operations occur. the style is characterized by passing function values into looping methods, immutable data, methods with no side effects.\n"
   ]
  },
  {
   "cell_type": "markdown",
   "metadata": {},
   "source": [
    "function literal"
   ]
  },
  {
   "cell_type": "code",
   "execution_count": 24,
   "metadata": {},
   "outputs": [],
   "source": [
    "(x: Int) => x + 1"
   ]
  },
  {
   "cell_type": "markdown",
   "metadata": {},
   "source": [
    "The => designates that this function converts the thing on the left (any integer x) to the thing on the right (x + 1). So, this is a funciton mapping any integer x to x + 1.\n",
    "\n",
    "Function values are objects, so you can store them in varialbes. They are functions too, so you can invoke them usign the usual parantheses function-call notation."
   ]
  },
  {
   "cell_type": "code",
   "execution_count": 25,
   "metadata": {},
   "outputs": [],
   "source": [
    "var increase = (x: Int) => x + 1"
   ]
  },
  {
   "cell_type": "code",
   "execution_count": 27,
   "metadata": {},
   "outputs": [],
   "source": [
    "increase(10)"
   ]
  },
  {
   "cell_type": "markdown",
   "metadata": {},
   "source": [
    "## Placeholder syntax\n",
    "You can use underscores as placeholders for one or more parameters. e.g."
   ]
  },
  {
   "cell_type": "code",
   "execution_count": 29,
   "metadata": {},
   "outputs": [],
   "source": [
    "val someNumbers = List(-30, -20, -10, 0, 5, 10)\n",
    "someNumbers.filter(_ > 0)"
   ]
  },
  {
   "cell_type": "markdown",
   "metadata": {},
   "source": [
    "Which is equivalent to"
   ]
  },
  {
   "cell_type": "code",
   "execution_count": 30,
   "metadata": {},
   "outputs": [],
   "source": [
    "someNumbers.filter(x => x > 0)"
   ]
  },
  {
   "cell_type": "code",
   "execution_count": 31,
   "metadata": {},
   "outputs": [],
   "source": [
    "val f = (_: Int) + (_: Int)\n",
    "f(5, 10)"
   ]
  },
  {
   "cell_type": "markdown",
   "metadata": {},
   "source": [
    "### Partially applied functions"
   ]
  },
  {
   "cell_type": "code",
   "execution_count": 34,
   "metadata": {},
   "outputs": [],
   "source": [
    "def sum(a: Int, b: Int, c: Int) = a + b + c\n",
    "val a = sum _\n",
    "a(1, 2, 3)"
   ]
  },
  {
   "cell_type": "markdown",
   "metadata": {},
   "source": [
    "# Traits\n",
    "trait: A trait, which is defined with the trait keyword, is like an abstract class that cannot take any value parameters and can be \"mixed into\" classes or other traits via the process known as mixin composition. When a trait is being mixed into a class or trait, it is called a mixin. A trait may be parameterized with one or more types. When parameterized types, the trait constructs a type. For example, Set is a trait that takes a single type parameter, whereas Set[Int] is a type. Also, Set is saied to be \"the trait of\" type Set[Int].\n",
    "\n",
    "A trait encapsulates method and definitions, which can be reused by mixing them into classes. Unlike class inheritance, in which each class must inherit from just one uperclass, a class can mix in any number of traits. \n",
    "\n",
    "Traits uses the keyword trait"
   ]
  },
  {
   "cell_type": "code",
   "execution_count": 35,
   "metadata": {},
   "outputs": [],
   "source": [
    "trait Philosophical {\n",
    "    def philisophize() {\n",
    "        println(\"I consume memory, therefor I am!\")\n",
    "    }\n",
    "}"
   ]
  },
  {
   "cell_type": "markdown",
   "metadata": {},
   "source": [
    "The default superclass of a triaat is AnyRef"
   ]
  },
  {
   "cell_type": "code",
   "execution_count": 38,
   "metadata": {},
   "outputs": [],
   "source": [
    "class Frog extends Philosophical {\n",
    "    override def toString = \"green\"\n",
    "}"
   ]
  },
  {
   "cell_type": "code",
   "execution_count": 40,
   "metadata": {},
   "outputs": [],
   "source": [
    "val frog = new Frog\n",
    "println(frog.philisophize())"
   ]
  },
  {
   "cell_type": "markdown",
   "metadata": {},
   "source": [
    "A trait also defines a type."
   ]
  },
  {
   "cell_type": "code",
   "execution_count": 44,
   "metadata": {},
   "outputs": [],
   "source": [
    "val phil: Philosophical = frog\n",
    "phil.philisophize()"
   ]
  },
  {
   "cell_type": "markdown",
   "metadata": {},
   "source": [
    "Traits are like Java interfaces with concrete methods, but they can do more. Traits can declare fields, maintain state, you can do anything in a trait definition that you can do in a class definition.\n",
    "\n",
    "The syntax looks exactly the same, with 2 exceptions.\n",
    "- a trait cannot have any \"class\" parameters, i.e. parameters passed to the pimary contructors"
   ]
  },
  {
   "cell_type": "code",
   "execution_count": 45,
   "metadata": {},
   "outputs": [],
   "source": [
    "trait NoPoint(x: Int, y: Int)"
   ]
  },
  {
   "cell_type": "markdown",
   "metadata": {},
   "source": [
    "- classes, super calls are statically bound, in traits, they are dynamically bound"
   ]
  },
  {
   "cell_type": "markdown",
   "metadata": {},
   "source": [
    "# For expression\n",
    "General form of for expression\n",
    "\n",
    "```\n",
    "for ( seq ) yield expr\n",
    "```\n",
    "\n",
    "Here seq is a sequence of generators, definitions and filters, with semicolons between successive elements.\n",
    "\n",
    "generator: A generator defines a named val and assigns it to a series of values in a for expression. for example, in for(i <- 1 to 10), the generator is \"i <= 1 to 10\". The value to the right of the <- is the generator expression.\n",
    "\n",
    "generator expression: A generator expression generates a series of values in a for expression. For example, in for(i <= 1 to 10). the generator expression is \"1 to 10\".\n",
    "\n",
    "the generator is in fthe form:\n",
    "```\n",
    "pat <- expr\n",
    "```\n",
    "\n",
    "The expression expr typicallly returns a list. The patter pat gets matched one-by-one against all elements of that list. If the mapch succeeds, the variable in the pattern get bound to the corresponding parts of the element. If the match fails, `no MatchError` is thrown instead, the elemetn is simply discarded from the iteration.\n",
    "\n",
    "In most commmon cases, the pattern pat is just a bariable x, as in x<- expr. In that case, the variable x simply iterates over all elment returned by expr.\n",
    "\n",
    "\n",
    "Definition, in the form:\n",
    "```\n",
    "pat = expr\n",
    "```\n",
    "This definition binds the pattern pat to the value expr. So it has the same affect as a val definition:\n",
    "\n",
    "```\n",
    "val x = expr\n",
    "```\n",
    "The most common case is again where the pattern is a simple variable x, e.g., x = expr. This defines x as the name for the value expr.\n",
    "\n",
    "\n",
    "filter: An if followed by a boolean expression is a for expression. In for(i <- 1 to 10; if i%2 ==0), the filter is \"if i %2 ==0\". The value to the right of he if is the filter expression.\n",
    "\n",
    "filter expression: A filter expression is the boolean expression following an if in a for expression. In for(i <- 1 to 10; if i% 2 == 0), the filter expression is \"i % 2 == 0\".\n",
    "\n",
    "yield: An expression can yield a result. The yield keyword designates the result of a for expression.\n",
    "\n",
    "A filter is of the form:\n",
    "```\n",
    "if expr\n",
    "```\n",
    "\n",
    "Here, expr is an expression of type Boolean. The filter drops from the iteration all elements fo this expr returns false.\n",
    "\n",
    "eg."
   ]
  },
  {
   "cell_type": "code",
   "execution_count": 46,
   "metadata": {},
   "outputs": [],
   "source": [
    "for (x <- List(1, 2); y <- List(\"one\", \"two\"))\n",
    "yield(x, y)"
   ]
  },
  {
   "cell_type": "code",
   "execution_count": null,
   "metadata": {},
   "outputs": [],
   "source": [
    "<dependency>\n",
    "  <groupId>com.typesafe.akka</groupId>\n",
    "  <artifactId>akka-actor_2.12</artifactId>\n",
    "  <version>2.3.16</version>\n",
    "</dependency>"
   ]
  },
  {
   "cell_type": "code",
   "execution_count": 2,
   "metadata": {},
   "outputs": [
    {
     "name": "stderr",
     "output_type": "stream",
     "text": [
      "\u001b[0;31mError in calling magic 'init_spark' on cell:\n",
      "    Java gateway process exited before sending its port number\n",
      "    args: []\n",
      "    kwargs: {}\n",
      "\u001b[0m\u001b[0;31mTraceback (most recent call last):\n",
      "  File \"/home/yilengyao/.local/lib/python3.6/site-packages/metakernel/magic.py\", line 96, in call_magic\n",
      "    func(*args, **kwargs)\n",
      "  File \"/home/yilengyao/.local/lib/python3.6/site-packages/spylon_kernel/init_spark_magic.py\", line 59, in cell_init_spark\n",
      "    init_spark(conf=self.env['launcher'], capture_stderr=stderr)\n",
      "  File \"/home/yilengyao/.local/lib/python3.6/site-packages/spylon_kernel/scala_interpreter.py\", line 99, in init_spark\n",
      "    spark_context = conf.spark_context(application_name)\n",
      "  File \"/home/yilengyao/.local/lib/python3.6/site-packages/spylon/spark/launcher.py\", line 521, in spark_context\n",
      "    return pyspark.SparkContext(appName=application_name, conf=spark_conf)\n",
      "  File \"/home/yilengyao/.local/lib/python3.6/site-packages/pyspark/context.py\", line 144, in __init__\n",
      "    SparkContext._ensure_initialized(self, gateway=gateway, conf=conf)\n",
      "  File \"/home/yilengyao/.local/lib/python3.6/site-packages/pyspark/context.py\", line 339, in _ensure_initialized\n",
      "    SparkContext._gateway = gateway or launch_gateway(conf)\n",
      "  File \"/home/yilengyao/.local/lib/python3.6/site-packages/pyspark/java_gateway.py\", line 108, in launch_gateway\n",
      "    raise RuntimeError(\"Java gateway process exited before sending its port number\")\n",
      "RuntimeError: Java gateway process exited before sending its port number\n",
      "\n",
      "\u001b[0m\u001b[0;31m%%init_spark [--stderr] - starts a SparkContext with a custom\n",
      "configuration defined using Python code in the body of the cell\n",
      "\n",
      "Includes a `spylon.spark.launcher.SparkConfiguration` instance\n",
      "in the variable `launcher`. Looks for an `application_name`\n",
      "variable to use as the name of the Spark session.\n",
      "\n",
      "Example\n",
      "-------\n",
      "%%init_spark\n",
      "launcher.jars = [\"file://some/jar.jar\"]\n",
      "launcher.master = \"local[4]\"\n",
      "launcher.conf.spark.app.name = \"My Fancy App\"\n",
      "launcher.conf.spark.executor.cores = 8\n",
      "\n",
      "Options:\n",
      "-------\n",
      "--stderr       Capture stderr in the notebook instead of in the kernel log [default: False]\n",
      "\u001b[0m"
     ]
    }
   ],
   "source": [
    "%%init_spark\n",
    "launcher.packages = [\"com.typesafe.akka:akka-actor_2.12:2.3.16\"]"
   ]
  },
  {
   "cell_type": "code",
   "execution_count": 9,
   "metadata": {},
   "outputs": [],
   "source": [
    "import scala.actors.Actor._\n",
    "val seriosActor2 = actor {\n",
    "    for (i"
   ]
  },
  {
   "cell_type": "code",
   "execution_count": 10,
   "metadata": {},
   "outputs": [],
   "source": [
    "import akka."
   ]
  },
  {
   "cell_type": "code",
   "execution_count": 67,
   "metadata": {},
   "outputs": [],
   "source": [
    "import akka.http.scaladsl.server.Directives._\n"
   ]
  },
  {
   "cell_type": "code",
   "execution_count": 48,
   "metadata": {},
   "outputs": [],
   "source": [
    "Thread.currentThread.getName"
   ]
  },
  {
   "cell_type": "code",
   "execution_count": 18,
   "metadata": {},
   "outputs": [
    {
     "data": {
      "text/plain": [
       "Intitializing Scala interpreter ..."
      ]
     },
     "metadata": {},
     "output_type": "display_data"
    },
    {
     "data": {
      "text/plain": [
       "Spark Web UI available at http://192.168.1.66:4040\n",
       "SparkContext available as 'sc' (version = 3.2.1, master = local[*], app id = local-1646628752663)\n",
       "SparkSession available as 'spark'\n"
      ]
     },
     "metadata": {},
     "output_type": "display_data"
    },
    {
     "ename": "<console>",
     "evalue": "23: error: object actors is not a member of package scala",
     "output_type": "error",
     "traceback": [
      "<console>:23: error: object actors is not a member of package scala",
      "       import scala.actors.Actor._",
      "                    ^",
      "<console>:25: error: not found: value actor",
      "       val seriousActor2 = actor {",
      "                           ^",
      ""
     ]
    }
   ],
   "source": [
    "import scala.actors.Actor._\n",
    "\n",
    "val seriousActor2 = actor {\n",
    "    for (i <- 1 to 5)\n",
    "        println(Thread.currentThread.getName + \" this is the question.\")\n",
    "    Thread.sleep(1000)\n",
    "}"
   ]
  },
  {
   "cell_type": "code",
   "execution_count": null,
   "metadata": {},
   "outputs": [],
   "source": [
    "val sfdsf = List(1, 2, 3)"
   ]
  },
  {
   "cell_type": "code",
   "execution_count": null,
   "metadata": {},
   "outputs": [],
   "source": [
    "sfdsf(0) = 2"
   ]
  },
  {
   "cell_type": "code",
   "execution_count": 63,
   "metadata": {},
   "outputs": [],
   "source": [
    "import $ivy.com.typesafe.akka::akka-actor:2.5.13\n",
    "import akka.actor.Actor\n",
    "\n"
   ]
  },
  {
   "cell_type": "code",
   "execution_count": 12,
   "metadata": {},
   "outputs": [
    {
     "ename": "<console>",
     "evalue": "23: error: not found: value akka",
     "output_type": "error",
     "traceback": [
      "<console>:23: error: not found: value akka",
      "       import akka.actor",
      "              ^",
      ""
     ]
    }
   ],
   "source": [
    "import akka.actors"
   ]
  },
  {
   "cell_type": "code",
   "execution_count": 69,
   "metadata": {},
   "outputs": [],
   "source": [
    "%%init_spark\n",
    "launcher.packages = [\"org.scala-lang:scala-actors:2.11.6\"]"
   ]
  },
  {
   "cell_type": "code",
   "execution_count": null,
   "metadata": {},
   "outputs": [],
   "source": [
    "<dependency>\n",
    "  <groupId>org.scala-lang</groupId>\n",
    "  <artifactId>scala-actors</artifactId>\n",
    "  <version>2.11.6</version>\n",
    "</dependency>"
   ]
  },
  {
   "cell_type": "code",
   "execution_count": 71,
   "metadata": {},
   "outputs": [],
   "source": [
    "%%configure\n",
    "{ \"conf\": {\"spark.jars.packages\": \"org.scala-lang:scala-actors:2.11.6\" }}"
   ]
  },
  {
   "cell_type": "code",
   "execution_count": null,
   "metadata": {},
   "outputs": [],
   "source": [
    "<dependency>\n",
    "  <groupId>org.scala-lang</groupId>\n",
    "  <artifactId>scala-actors</artifactId>\n",
    "  <version>2.11.6</version>\n",
    "</dependency>"
   ]
  },
  {
   "cell_type": "code",
   "execution_count": 1,
   "metadata": {},
   "outputs": [],
   "source": [
    "%%init_spark\n",
    "launcher.packages = [\"org.scala-lang:scala-actors:2.11.6\"]"
   ]
  },
  {
   "cell_type": "code",
   "execution_count": null,
   "metadata": {},
   "outputs": [],
   "source": [
    "import java.math.BigInteger\n",
    "\n",
    "def factorial(x: BigInteger): BigInteger = if (x == BigInteger.ZERO) BigInteger.ONE else x.multiply(factorial(x.subtract(BigInteger.ONE)))"
   ]
  },
  {
   "cell_type": "code",
   "execution_count": null,
   "metadata": {},
   "outputs": [],
   "source": []
  }
 ],
 "metadata": {
  "kernelspec": {
   "display_name": "spylon-kernel",
   "language": "scala",
   "name": "spylon-kernel"
  },
  "language_info": {
   "codemirror_mode": "text/x-scala",
   "file_extension": ".scala",
   "help_links": [
    {
     "text": "MetaKernel Magics",
     "url": "https://metakernel.readthedocs.io/en/latest/source/README.html"
    }
   ],
   "mimetype": "text/x-scala",
   "name": "scala",
   "pygments_lexer": "scala",
   "version": "0.4.1"
  }
 },
 "nbformat": 4,
 "nbformat_minor": 4
}
